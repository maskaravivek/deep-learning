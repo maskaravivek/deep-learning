{
 "nbformat": 4,
 "nbformat_minor": 2,
 "metadata": {
  "language_info": {
   "name": "python",
   "codemirror_mode": {
    "name": "ipython",
    "version": 3
   },
   "version": "3.7.4-final"
  },
  "orig_nbformat": 2,
  "file_extension": ".py",
  "mimetype": "text/x-python",
  "name": "python",
  "npconvert_exporter": "python",
  "pygments_lexer": "ipython3",
  "version": 3,
  "kernelspec": {
   "name": "python37464bitbaseconda5f3d41b05617469cb3ab8a420f422cbd",
   "display_name": "Python 3.7.4 64-bit ('base': conda)"
  }
 },
 "cells": [
  {
   "cell_type": "code",
   "execution_count": 4,
   "metadata": {},
   "outputs": [
    {
     "name": "stdout",
     "output_type": "stream",
     "text": "Model: \"sequential_2\"\n_________________________________________________________________\nLayer (type)                 Output Shape              Param #   \n=================================================================\ndense_2 (Dense)              (None, 1)                 2         \n=================================================================\nTotal params: 2\nTrainable params: 2\nNon-trainable params: 0\n_________________________________________________________________\nNone\n"
    }
   ],
   "source": [
    "import tensorflow as tf\n",
    "import numpy as np\n",
    "from tensorflow import keras\n",
    "\n",
    "model = tf.keras.Sequential([keras.layers.Dense(units =1, input_shape=[1])])\n",
    "\n",
    "model.compile(optimizer='sgd', loss='mean_squared_error')\n",
    "\n",
    "print(model.summary())"
   ]
  },
  {
   "cell_type": "code",
   "execution_count": 8,
   "metadata": {},
   "outputs": [
    {
     "output_type": "stream",
     "name": "stdout",
     "text": "Train on 6 samples\nEpoch 1/10\n6/6 [==============================] - 0s 264us/sample - loss: 1.6101e-09\nEpoch 2/10\n6/6 [==============================] - 0s 528us/sample - loss: 1.5790e-09\nEpoch 3/10\n6/6 [==============================] - 0s 327us/sample - loss: 1.5479e-09\nEpoch 4/10\n6/6 [==============================] - 0s 218us/sample - loss: 1.5138e-09\nEpoch 5/10\n6/6 [==============================] - 0s 292us/sample - loss: 1.4833e-09\nEpoch 6/10\n6/6 [==============================] - 0s 428us/sample - loss: 1.4513e-09\nEpoch 7/10\n6/6 [==============================] - 0s 443us/sample - loss: 1.4263e-09\nEpoch 8/10\n6/6 [==============================] - 0s 199us/sample - loss: 1.3950e-09\nEpoch 9/10\n6/6 [==============================] - 0s 196us/sample - loss: 1.3662e-09\nEpoch 10/10\n6/6 [==============================] - 0s 180us/sample - loss: 1.3358e-09\n"
    },
    {
     "output_type": "execute_result",
     "data": {
      "text/plain": "<tensorflow.python.keras.callbacks.History at 0x1396870d0>"
     },
     "metadata": {},
     "execution_count": 8
    }
   ],
   "source": [
    "xs = np.array([-1.0,  0.0, 1.0, 2.0, 3.0, 4.0], dtype=float)\n",
    "ys = np.array([-3.0, -1.0, 1.0, 3.0, 5.0, 7.0], dtype=float)\n",
    "\n",
    "model.fit(xs, ys, epochs = 10)"
   ]
  },
  {
   "cell_type": "code",
   "execution_count": 6,
   "metadata": {},
   "outputs": [
    {
     "name": "stdout",
     "output_type": "stream",
     "text": "[[18.978909]]\n"
    }
   ],
   "source": [
    "print(model.predict([10.0]))"
   ]
  }
 ]
}