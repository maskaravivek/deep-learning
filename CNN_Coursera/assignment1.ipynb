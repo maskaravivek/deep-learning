{
 "cells": [
  {
   "cell_type": "code",
   "execution_count": 1,
   "metadata": {},
   "outputs": [],
   "source": [
    "import numpy as np\n",
    "import h5py\n",
    "import matplotlib.pyplot as plt\n",
    "\n",
    "%matplotlib inline\n",
    "plt.rcParams['figure.figsize'] = (5.0, 4.0) # set default size of plots\n",
    "plt.rcParams['image.interpolation'] = 'nearest'\n",
    "plt.rcParams['image.cmap'] = 'gray'\n",
    "\n",
    "%load_ext autoreload\n",
    "%autoreload 2\n",
    "\n",
    "np.random.seed(1)"
   ]
  },
  {
   "cell_type": "code",
   "execution_count": 19,
   "metadata": {},
   "outputs": [
    {
     "name": "stdout",
     "output_type": "stream",
     "text": "(2, 2, 3, 5)\n2 3\n[[[[0. 0. 0. 0. 0.]\n   [0. 0. 0. 0. 0.]\n   [0. 0. 0. 0. 0.]\n   [0. 0. 0. 0. 0.]\n   [0. 0. 0. 0. 0.]]\n\n  [[0. 0. 0. 0. 0.]\n   [0. 0. 0. 0. 0.]\n   [0. 0. 0. 0. 0.]\n   [0. 0. 0. 0. 0.]\n   [0. 0. 0. 0. 0.]]\n\n  [[0. 0. 0. 0. 0.]\n   [0. 0. 0. 0. 0.]\n   [0. 0. 0. 0. 0.]\n   [0. 0. 0. 0. 0.]\n   [0. 0. 0. 0. 0.]]\n\n  [[0. 0. 0. 0. 0.]\n   [0. 0. 0. 0. 0.]\n   [0. 0. 0. 0. 0.]\n   [0. 0. 0. 0. 0.]\n   [0. 0. 0. 0. 0.]]]\n\n\n [[[0. 0. 0. 0. 0.]\n   [0. 0. 0. 0. 0.]\n   [0. 0. 0. 0. 0.]\n   [0. 0. 0. 0. 0.]\n   [0. 0. 0. 0. 0.]]\n\n  [[0. 0. 0. 0. 0.]\n   [0. 0. 0. 0. 0.]\n   [0. 0. 0. 0. 0.]\n   [0. 0. 0. 0. 0.]\n   [0. 0. 0. 0. 0.]]\n\n  [[0. 0. 0. 0. 0.]\n   [0. 0. 0. 0. 0.]\n   [0. 0. 0. 0. 0.]\n   [0. 0. 0. 0. 0.]\n   [0. 0. 0. 0. 0.]]\n\n  [[0. 0. 0. 0. 0.]\n   [0. 0. 0. 0. 0.]\n   [0. 0. 0. 0. 0.]\n   [0. 0. 0. 0. 0.]\n   [0. 0. 0. 0. 0.]]]]\n"
    }
   ],
   "source": [
    "a = [[[[1, 2, 3, 4, 5], [1, 2, 3, 4, 5], [1, 2, 3, 4, 5]], [[1, 2, 3, 4, 5], [1, 2, 3, 4, 5], [1, 2, 3, 4, 5]]],\n",
    "[[[1, 2, 3, 4, 5], [1, 2, 3, 4, 5], [1, 2, 3, 4, 5]], [[1, 2, 3, 4, 5], [1, 2, 3, 4, 5], [1, 2, 3, 4, 5]]]]\n",
    "arr = np.asarray(a)\n",
    "shape = arr.shape\n",
    "\n",
    "print(shape)\n",
    "print(shape[1], shape[2])\n",
    "\n",
    "x_offset = 1\n",
    "y_offset = 1\n",
    "result = np.zeros_like(arr)\n",
    "result[x_offset:a.shape[0]+x_offset,y_offset:a.shape[1]+y_offset] = a\n",
    "print(result)"
   ]
  },
  {
   "cell_type": "code",
   "execution_count": null,
   "metadata": {},
   "outputs": [],
   "source": []
  }
 ],
 "metadata": {
  "file_extension": ".py",
  "kernelspec": {
   "display_name": "Python 3.7.4 64-bit ('base': conda)",
   "language": "python",
   "name": "python37464bitbaseconda85b01343551e4cb980f9e4803368db2c"
  },
  "language_info": {
   "codemirror_mode": {
    "name": "ipython",
    "version": 3
   },
   "file_extension": ".py",
   "mimetype": "text/x-python",
   "name": "python",
   "nbconvert_exporter": "python",
   "pygments_lexer": "ipython3",
   "version": "3.7.4-final"
  },
  "mimetype": "text/x-python",
  "name": "python",
  "npconvert_exporter": "python",
  "pygments_lexer": "ipython3",
  "version": 3
 },
 "nbformat": 4,
 "nbformat_minor": 4
}